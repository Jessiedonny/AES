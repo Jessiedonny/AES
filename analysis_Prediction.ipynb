{
 "cells": [
  {
   "cell_type": "code",
   "execution_count": 1,
   "id": "b5c73f0f-6d96-4820-9fa8-3525b98662d0",
   "metadata": {},
   "outputs": [],
   "source": [
    "import pandas as pd\n",
    "import numpy as np\n",
    "\n",
    "prediction_path = 'output/predictions/multiviewv9/'"
   ]
  },
  {
   "cell_type": "code",
   "execution_count": 2,
   "id": "81f86f5a-fb8e-499a-b479-dfbcf3711d11",
   "metadata": {},
   "outputs": [],
   "source": [
    "df = pd.read_csv(prediction_path+\"test_Q1_multiviewv10_seed289.csv\")"
   ]
  },
  {
   "cell_type": "code",
   "execution_count": 3,
   "id": "26ac8e54-beba-4616-893b-15b0882c8f64",
   "metadata": {},
   "outputs": [
    {
     "data": {
      "text/html": [
       "<div>\n",
       "<style scoped>\n",
       "    .dataframe tbody tr th:only-of-type {\n",
       "        vertical-align: middle;\n",
       "    }\n",
       "\n",
       "    .dataframe tbody tr th {\n",
       "        vertical-align: top;\n",
       "    }\n",
       "\n",
       "    .dataframe thead th {\n",
       "        text-align: right;\n",
       "    }\n",
       "</style>\n",
       "<table border=\"1\" class=\"dataframe\">\n",
       "  <thead>\n",
       "    <tr style=\"text-align: right;\">\n",
       "      <th></th>\n",
       "      <th>Unique_ID</th>\n",
       "      <th>AC_pred</th>\n",
       "      <th>CO_pred</th>\n",
       "      <th>LA_pred</th>\n",
       "      <th>ST_pred</th>\n",
       "      <th>Response_true</th>\n",
       "      <th>AC_true</th>\n",
       "      <th>CO_true</th>\n",
       "      <th>LA_true</th>\n",
       "      <th>ST_true</th>\n",
       "      <th>total_true</th>\n",
       "      <th>total_pred</th>\n",
       "    </tr>\n",
       "  </thead>\n",
       "  <tbody>\n",
       "    <tr>\n",
       "      <th>0</th>\n",
       "      <td>6817958868</td>\n",
       "      <td>2.0</td>\n",
       "      <td>2.0</td>\n",
       "      <td>2.0</td>\n",
       "      <td>2.0</td>\n",
       "      <td>Hello there! My name is Joseph Mang and i'm fr...</td>\n",
       "      <td>2</td>\n",
       "      <td>1</td>\n",
       "      <td>2</td>\n",
       "      <td>2</td>\n",
       "      <td>7</td>\n",
       "      <td>8.0</td>\n",
       "    </tr>\n",
       "    <tr>\n",
       "      <th>1</th>\n",
       "      <td>6814214682</td>\n",
       "      <td>2.0</td>\n",
       "      <td>3.0</td>\n",
       "      <td>3.0</td>\n",
       "      <td>2.0</td>\n",
       "      <td>Hello Anahera quinn i am Rokena butcher i am f...</td>\n",
       "      <td>2</td>\n",
       "      <td>3</td>\n",
       "      <td>3</td>\n",
       "      <td>3</td>\n",
       "      <td>11</td>\n",
       "      <td>10.0</td>\n",
       "    </tr>\n",
       "    <tr>\n",
       "      <th>2</th>\n",
       "      <td>6810653345</td>\n",
       "      <td>3.0</td>\n",
       "      <td>3.0</td>\n",
       "      <td>3.0</td>\n",
       "      <td>3.0</td>\n",
       "      <td>Dear Anahera Quinn, I am interested in signing...</td>\n",
       "      <td>3</td>\n",
       "      <td>3</td>\n",
       "      <td>3</td>\n",
       "      <td>3</td>\n",
       "      <td>12</td>\n",
       "      <td>12.0</td>\n",
       "    </tr>\n",
       "    <tr>\n",
       "      <th>3</th>\n",
       "      <td>6773279851</td>\n",
       "      <td>3.0</td>\n",
       "      <td>3.0</td>\n",
       "      <td>3.0</td>\n",
       "      <td>3.0</td>\n",
       "      <td>Kia Ora Anahera Quinn, \\nMy name is Isadora Ah...</td>\n",
       "      <td>3</td>\n",
       "      <td>2</td>\n",
       "      <td>3</td>\n",
       "      <td>3</td>\n",
       "      <td>11</td>\n",
       "      <td>12.0</td>\n",
       "    </tr>\n",
       "    <tr>\n",
       "      <th>4</th>\n",
       "      <td>6895156445</td>\n",
       "      <td>3.0</td>\n",
       "      <td>3.0</td>\n",
       "      <td>3.0</td>\n",
       "      <td>3.0</td>\n",
       "      <td>October 31st 2023\\n \\n11:28\\n \\n \\nTo: Anahera...</td>\n",
       "      <td>2</td>\n",
       "      <td>2</td>\n",
       "      <td>3</td>\n",
       "      <td>3</td>\n",
       "      <td>10</td>\n",
       "      <td>12.0</td>\n",
       "    </tr>\n",
       "  </tbody>\n",
       "</table>\n",
       "</div>"
      ],
      "text/plain": [
       "    Unique_ID  AC_pred  CO_pred  LA_pred  ST_pred  \\\n",
       "0  6817958868      2.0      2.0      2.0      2.0   \n",
       "1  6814214682      2.0      3.0      3.0      2.0   \n",
       "2  6810653345      3.0      3.0      3.0      3.0   \n",
       "3  6773279851      3.0      3.0      3.0      3.0   \n",
       "4  6895156445      3.0      3.0      3.0      3.0   \n",
       "\n",
       "                                       Response_true  AC_true  CO_true  \\\n",
       "0  Hello there! My name is Joseph Mang and i'm fr...        2        1   \n",
       "1  Hello Anahera quinn i am Rokena butcher i am f...        2        3   \n",
       "2  Dear Anahera Quinn, I am interested in signing...        3        3   \n",
       "3  Kia Ora Anahera Quinn, \\nMy name is Isadora Ah...        3        2   \n",
       "4  October 31st 2023\\n \\n11:28\\n \\n \\nTo: Anahera...        2        2   \n",
       "\n",
       "   LA_true  ST_true  total_true  total_pred  \n",
       "0        2        2           7         8.0  \n",
       "1        3        3          11        10.0  \n",
       "2        3        3          12        12.0  \n",
       "3        3        3          11        12.0  \n",
       "4        3        3          10        12.0  "
      ]
     },
     "execution_count": 3,
     "metadata": {},
     "output_type": "execute_result"
    }
   ],
   "source": [
    "df.head()"
   ]
  },
  {
   "cell_type": "code",
   "execution_count": 4,
   "id": "f8a235fd-6d33-4c04-b33e-64201a69fdcf",
   "metadata": {},
   "outputs": [
    {
     "data": {
      "text/plain": [
       "(346, 12)"
      ]
     },
     "execution_count": 4,
     "metadata": {},
     "output_type": "execute_result"
    }
   ],
   "source": [
    "df.shape"
   ]
  },
  {
   "cell_type": "code",
   "execution_count": 6,
   "id": "d980b31e-ab19-44d2-9d30-203dea4c4d2f",
   "metadata": {},
   "outputs": [
    {
     "ename": "KeyError",
     "evalue": "\"None of [Index(['AC'], dtype='object')] are in the [columns]\"",
     "output_type": "error",
     "traceback": [
      "\u001b[1;31m---------------------------------------------------------------------------\u001b[0m",
      "\u001b[1;31mKeyError\u001b[0m                                  Traceback (most recent call last)",
      "Cell \u001b[1;32mIn[6], line 2\u001b[0m\n\u001b[0;32m      1\u001b[0m \u001b[38;5;66;03m# Calculate min and max by subtracting and adding 0.3, respectively\u001b[39;00m\n\u001b[1;32m----> 2\u001b[0m min_val \u001b[38;5;241m=\u001b[39m \u001b[38;5;28mround\u001b[39m(\u001b[43mdf\u001b[49m\u001b[43m[\u001b[49m\u001b[43m[\u001b[49m\u001b[38;5;124;43m'\u001b[39;49m\u001b[38;5;124;43mAC\u001b[39;49m\u001b[38;5;124;43m'\u001b[39;49m\u001b[43m]\u001b[49m\u001b[43m]\u001b[49m \u001b[38;5;241m-\u001b[39m \u001b[38;5;241m0.1\u001b[39m)\n\u001b[0;32m      3\u001b[0m max_val \u001b[38;5;241m=\u001b[39m \u001b[38;5;28mround\u001b[39m(df[[\u001b[38;5;124m'\u001b[39m\u001b[38;5;124mAC\u001b[39m\u001b[38;5;124m'\u001b[39m]] \u001b[38;5;241m+\u001b[39m \u001b[38;5;241m0.1\u001b[39m)\n\u001b[0;32m      5\u001b[0m min_val\n",
      "File \u001b[1;32mc:\\Users\\JessieDong\\anaconda3\\envs\\NLP\\lib\\site-packages\\pandas\\core\\frame.py:3899\u001b[0m, in \u001b[0;36mDataFrame.__getitem__\u001b[1;34m(self, key)\u001b[0m\n\u001b[0;32m   3897\u001b[0m     \u001b[38;5;28;01mif\u001b[39;00m is_iterator(key):\n\u001b[0;32m   3898\u001b[0m         key \u001b[38;5;241m=\u001b[39m \u001b[38;5;28mlist\u001b[39m(key)\n\u001b[1;32m-> 3899\u001b[0m     indexer \u001b[38;5;241m=\u001b[39m \u001b[38;5;28;43mself\u001b[39;49m\u001b[38;5;241;43m.\u001b[39;49m\u001b[43mcolumns\u001b[49m\u001b[38;5;241;43m.\u001b[39;49m\u001b[43m_get_indexer_strict\u001b[49m\u001b[43m(\u001b[49m\u001b[43mkey\u001b[49m\u001b[43m,\u001b[49m\u001b[43m \u001b[49m\u001b[38;5;124;43m\"\u001b[39;49m\u001b[38;5;124;43mcolumns\u001b[39;49m\u001b[38;5;124;43m\"\u001b[39;49m\u001b[43m)\u001b[49m[\u001b[38;5;241m1\u001b[39m]\n\u001b[0;32m   3901\u001b[0m \u001b[38;5;66;03m# take() does not accept boolean indexers\u001b[39;00m\n\u001b[0;32m   3902\u001b[0m \u001b[38;5;28;01mif\u001b[39;00m \u001b[38;5;28mgetattr\u001b[39m(indexer, \u001b[38;5;124m\"\u001b[39m\u001b[38;5;124mdtype\u001b[39m\u001b[38;5;124m\"\u001b[39m, \u001b[38;5;28;01mNone\u001b[39;00m) \u001b[38;5;241m==\u001b[39m \u001b[38;5;28mbool\u001b[39m:\n",
      "File \u001b[1;32mc:\\Users\\JessieDong\\anaconda3\\envs\\NLP\\lib\\site-packages\\pandas\\core\\indexes\\base.py:6115\u001b[0m, in \u001b[0;36mIndex._get_indexer_strict\u001b[1;34m(self, key, axis_name)\u001b[0m\n\u001b[0;32m   6112\u001b[0m \u001b[38;5;28;01melse\u001b[39;00m:\n\u001b[0;32m   6113\u001b[0m     keyarr, indexer, new_indexer \u001b[38;5;241m=\u001b[39m \u001b[38;5;28mself\u001b[39m\u001b[38;5;241m.\u001b[39m_reindex_non_unique(keyarr)\n\u001b[1;32m-> 6115\u001b[0m \u001b[38;5;28;43mself\u001b[39;49m\u001b[38;5;241;43m.\u001b[39;49m\u001b[43m_raise_if_missing\u001b[49m\u001b[43m(\u001b[49m\u001b[43mkeyarr\u001b[49m\u001b[43m,\u001b[49m\u001b[43m \u001b[49m\u001b[43mindexer\u001b[49m\u001b[43m,\u001b[49m\u001b[43m \u001b[49m\u001b[43maxis_name\u001b[49m\u001b[43m)\u001b[49m\n\u001b[0;32m   6117\u001b[0m keyarr \u001b[38;5;241m=\u001b[39m \u001b[38;5;28mself\u001b[39m\u001b[38;5;241m.\u001b[39mtake(indexer)\n\u001b[0;32m   6118\u001b[0m \u001b[38;5;28;01mif\u001b[39;00m \u001b[38;5;28misinstance\u001b[39m(key, Index):\n\u001b[0;32m   6119\u001b[0m     \u001b[38;5;66;03m# GH 42790 - Preserve name from an Index\u001b[39;00m\n",
      "File \u001b[1;32mc:\\Users\\JessieDong\\anaconda3\\envs\\NLP\\lib\\site-packages\\pandas\\core\\indexes\\base.py:6176\u001b[0m, in \u001b[0;36mIndex._raise_if_missing\u001b[1;34m(self, key, indexer, axis_name)\u001b[0m\n\u001b[0;32m   6174\u001b[0m     \u001b[38;5;28;01mif\u001b[39;00m use_interval_msg:\n\u001b[0;32m   6175\u001b[0m         key \u001b[38;5;241m=\u001b[39m \u001b[38;5;28mlist\u001b[39m(key)\n\u001b[1;32m-> 6176\u001b[0m     \u001b[38;5;28;01mraise\u001b[39;00m \u001b[38;5;167;01mKeyError\u001b[39;00m(\u001b[38;5;124mf\u001b[39m\u001b[38;5;124m\"\u001b[39m\u001b[38;5;124mNone of [\u001b[39m\u001b[38;5;132;01m{\u001b[39;00mkey\u001b[38;5;132;01m}\u001b[39;00m\u001b[38;5;124m] are in the [\u001b[39m\u001b[38;5;132;01m{\u001b[39;00maxis_name\u001b[38;5;132;01m}\u001b[39;00m\u001b[38;5;124m]\u001b[39m\u001b[38;5;124m\"\u001b[39m)\n\u001b[0;32m   6178\u001b[0m not_found \u001b[38;5;241m=\u001b[39m \u001b[38;5;28mlist\u001b[39m(ensure_index(key)[missing_mask\u001b[38;5;241m.\u001b[39mnonzero()[\u001b[38;5;241m0\u001b[39m]]\u001b[38;5;241m.\u001b[39munique())\n\u001b[0;32m   6179\u001b[0m \u001b[38;5;28;01mraise\u001b[39;00m \u001b[38;5;167;01mKeyError\u001b[39;00m(\u001b[38;5;124mf\u001b[39m\u001b[38;5;124m\"\u001b[39m\u001b[38;5;132;01m{\u001b[39;00mnot_found\u001b[38;5;132;01m}\u001b[39;00m\u001b[38;5;124m not in index\u001b[39m\u001b[38;5;124m\"\u001b[39m)\n",
      "\u001b[1;31mKeyError\u001b[0m: \"None of [Index(['AC'], dtype='object')] are in the [columns]\""
     ]
    }
   ],
   "source": [
    "# Calculate min and max by subtracting and adding 0.3, respectively\n",
    "min_val = round(df[['AC']] - 0.1)\n",
    "max_val = round(df[['AC']] + 0.1)\n",
    "\n",
    "min_val"
   ]
  },
  {
   "cell_type": "code",
   "execution_count": 57,
   "id": "c5762ac9-b004-47e5-83ff-9ad9c5f4831f",
   "metadata": {},
   "outputs": [
    {
     "data": {
      "text/plain": [
       "AC    2.0\n",
       "Name: 1, dtype: float64"
      ]
     },
     "execution_count": 57,
     "metadata": {},
     "output_type": "execute_result"
    }
   ],
   "source": [
    "max_val.loc[1]"
   ]
  },
  {
   "cell_type": "code",
   "execution_count": 58,
   "id": "2f3e6989-7cc1-466a-8af3-9772959b9781",
   "metadata": {},
   "outputs": [],
   "source": [
    "# Iterate over the DataFrame index\n",
    "for i in df.index:\n",
    "    if min_val.loc[i].equals(max_val.loc[i]):\n",
    "        df.at[i, 'AC_RANGE'] = min_val.loc[i].values[0]\n",
    "    else:\n",
    "        df.at[i, 'AC_RANGE'] = str([min_val.loc[i].values[0], max_val.loc[i].values[0]])\n"
   ]
  },
  {
   "cell_type": "code",
   "execution_count": 59,
   "id": "dacc4e49-b361-45d6-aba7-63e73128f786",
   "metadata": {},
   "outputs": [
    {
     "data": {
      "text/html": [
       "<div>\n",
       "<style scoped>\n",
       "    .dataframe tbody tr th:only-of-type {\n",
       "        vertical-align: middle;\n",
       "    }\n",
       "\n",
       "    .dataframe tbody tr th {\n",
       "        vertical-align: top;\n",
       "    }\n",
       "\n",
       "    .dataframe thead th {\n",
       "        text-align: right;\n",
       "    }\n",
       "</style>\n",
       "<table border=\"1\" class=\"dataframe\">\n",
       "  <thead>\n",
       "    <tr style=\"text-align: right;\">\n",
       "      <th></th>\n",
       "      <th>Unique_ID</th>\n",
       "      <th>AC</th>\n",
       "      <th>CO</th>\n",
       "      <th>LA</th>\n",
       "      <th>ST</th>\n",
       "      <th>AC_RANGE</th>\n",
       "    </tr>\n",
       "  </thead>\n",
       "  <tbody>\n",
       "    <tr>\n",
       "      <th>0</th>\n",
       "      <td>6831925658</td>\n",
       "      <td>2.948024</td>\n",
       "      <td>3.158209</td>\n",
       "      <td>3.203347</td>\n",
       "      <td>3.217326</td>\n",
       "      <td>3.0</td>\n",
       "    </tr>\n",
       "    <tr>\n",
       "      <th>1</th>\n",
       "      <td>6813875597</td>\n",
       "      <td>2.232285</td>\n",
       "      <td>2.653294</td>\n",
       "      <td>2.632966</td>\n",
       "      <td>2.535596</td>\n",
       "      <td>2.0</td>\n",
       "    </tr>\n",
       "    <tr>\n",
       "      <th>2</th>\n",
       "      <td>6810896752</td>\n",
       "      <td>2.453379</td>\n",
       "      <td>2.997998</td>\n",
       "      <td>2.920905</td>\n",
       "      <td>2.844583</td>\n",
       "      <td>[2.0, 3.0]</td>\n",
       "    </tr>\n",
       "    <tr>\n",
       "      <th>3</th>\n",
       "      <td>6831927625</td>\n",
       "      <td>3.083962</td>\n",
       "      <td>3.241235</td>\n",
       "      <td>3.295425</td>\n",
       "      <td>3.319744</td>\n",
       "      <td>3.0</td>\n",
       "    </tr>\n",
       "    <tr>\n",
       "      <th>4</th>\n",
       "      <td>6814716446</td>\n",
       "      <td>0.600000</td>\n",
       "      <td>0.600000</td>\n",
       "      <td>0.600000</td>\n",
       "      <td>0.600000</td>\n",
       "      <td>1.0</td>\n",
       "    </tr>\n",
       "  </tbody>\n",
       "</table>\n",
       "</div>"
      ],
      "text/plain": [
       "    Unique_ID        AC        CO        LA        ST    AC_RANGE\n",
       "0  6831925658  2.948024  3.158209  3.203347  3.217326         3.0\n",
       "1  6813875597  2.232285  2.653294  2.632966  2.535596         2.0\n",
       "2  6810896752  2.453379  2.997998  2.920905  2.844583  [2.0, 3.0]\n",
       "3  6831927625  3.083962  3.241235  3.295425  3.319744         3.0\n",
       "4  6814716446  0.600000  0.600000  0.600000  0.600000         1.0"
      ]
     },
     "execution_count": 59,
     "metadata": {},
     "output_type": "execute_result"
    }
   ],
   "source": [
    "df.head()"
   ]
  },
  {
   "cell_type": "code",
   "execution_count": 60,
   "id": "2b31724a-6be1-4ef5-af67-29e71f192c74",
   "metadata": {},
   "outputs": [],
   "source": [
    "df.to_csv(\"test_Q2_ac_range.csv\")"
   ]
  },
  {
   "cell_type": "code",
   "execution_count": 61,
   "id": "7e6bf675-a7af-4801-85e1-b83c4f74a58a",
   "metadata": {},
   "outputs": [
    {
     "data": {
      "text/html": [
       "<div>\n",
       "<style scoped>\n",
       "    .dataframe tbody tr th:only-of-type {\n",
       "        vertical-align: middle;\n",
       "    }\n",
       "\n",
       "    .dataframe tbody tr th {\n",
       "        vertical-align: top;\n",
       "    }\n",
       "\n",
       "    .dataframe thead th {\n",
       "        text-align: right;\n",
       "    }\n",
       "</style>\n",
       "<table border=\"1\" class=\"dataframe\">\n",
       "  <thead>\n",
       "    <tr style=\"text-align: right;\">\n",
       "      <th></th>\n",
       "      <th>Unique_ID</th>\n",
       "      <th>AC</th>\n",
       "      <th>CO</th>\n",
       "      <th>LA</th>\n",
       "      <th>ST</th>\n",
       "      <th>AC_RANGE</th>\n",
       "    </tr>\n",
       "  </thead>\n",
       "  <tbody>\n",
       "    <tr>\n",
       "      <th>0</th>\n",
       "      <td>6831925658</td>\n",
       "      <td>2.948024</td>\n",
       "      <td>3.158209</td>\n",
       "      <td>3.203347</td>\n",
       "      <td>3.217326</td>\n",
       "      <td>3.0</td>\n",
       "    </tr>\n",
       "    <tr>\n",
       "      <th>1</th>\n",
       "      <td>6813875597</td>\n",
       "      <td>2.232285</td>\n",
       "      <td>2.653294</td>\n",
       "      <td>2.632966</td>\n",
       "      <td>2.535596</td>\n",
       "      <td>2.0</td>\n",
       "    </tr>\n",
       "    <tr>\n",
       "      <th>3</th>\n",
       "      <td>6831927625</td>\n",
       "      <td>3.083962</td>\n",
       "      <td>3.241235</td>\n",
       "      <td>3.295425</td>\n",
       "      <td>3.319744</td>\n",
       "      <td>3.0</td>\n",
       "    </tr>\n",
       "    <tr>\n",
       "      <th>4</th>\n",
       "      <td>6814716446</td>\n",
       "      <td>0.600000</td>\n",
       "      <td>0.600000</td>\n",
       "      <td>0.600000</td>\n",
       "      <td>0.600000</td>\n",
       "      <td>1.0</td>\n",
       "    </tr>\n",
       "    <tr>\n",
       "      <th>5</th>\n",
       "      <td>6820794835</td>\n",
       "      <td>2.350857</td>\n",
       "      <td>2.819564</td>\n",
       "      <td>2.739203</td>\n",
       "      <td>2.703454</td>\n",
       "      <td>2.0</td>\n",
       "    </tr>\n",
       "    <tr>\n",
       "      <th>...</th>\n",
       "      <td>...</td>\n",
       "      <td>...</td>\n",
       "      <td>...</td>\n",
       "      <td>...</td>\n",
       "      <td>...</td>\n",
       "      <td>...</td>\n",
       "    </tr>\n",
       "    <tr>\n",
       "      <th>340</th>\n",
       "      <td>6691193921</td>\n",
       "      <td>0.000000</td>\n",
       "      <td>0.000000</td>\n",
       "      <td>0.000000</td>\n",
       "      <td>0.000000</td>\n",
       "      <td>-0.0</td>\n",
       "    </tr>\n",
       "    <tr>\n",
       "      <th>341</th>\n",
       "      <td>6813826539</td>\n",
       "      <td>0.000000</td>\n",
       "      <td>0.000000</td>\n",
       "      <td>0.000000</td>\n",
       "      <td>0.000000</td>\n",
       "      <td>-0.0</td>\n",
       "    </tr>\n",
       "    <tr>\n",
       "      <th>342</th>\n",
       "      <td>6810173574</td>\n",
       "      <td>0.000000</td>\n",
       "      <td>0.000000</td>\n",
       "      <td>0.000000</td>\n",
       "      <td>0.000000</td>\n",
       "      <td>-0.0</td>\n",
       "    </tr>\n",
       "    <tr>\n",
       "      <th>343</th>\n",
       "      <td>6813494267</td>\n",
       "      <td>0.000000</td>\n",
       "      <td>0.000000</td>\n",
       "      <td>0.000000</td>\n",
       "      <td>0.000000</td>\n",
       "      <td>-0.0</td>\n",
       "    </tr>\n",
       "    <tr>\n",
       "      <th>344</th>\n",
       "      <td>6606872194</td>\n",
       "      <td>0.000000</td>\n",
       "      <td>0.000000</td>\n",
       "      <td>0.000000</td>\n",
       "      <td>0.000000</td>\n",
       "      <td>-0.0</td>\n",
       "    </tr>\n",
       "  </tbody>\n",
       "</table>\n",
       "<p>287 rows × 6 columns</p>\n",
       "</div>"
      ],
      "text/plain": [
       "      Unique_ID        AC        CO        LA        ST AC_RANGE\n",
       "0    6831925658  2.948024  3.158209  3.203347  3.217326      3.0\n",
       "1    6813875597  2.232285  2.653294  2.632966  2.535596      2.0\n",
       "3    6831927625  3.083962  3.241235  3.295425  3.319744      3.0\n",
       "4    6814716446  0.600000  0.600000  0.600000  0.600000      1.0\n",
       "5    6820794835  2.350857  2.819564  2.739203  2.703454      2.0\n",
       "..          ...       ...       ...       ...       ...      ...\n",
       "340  6691193921  0.000000  0.000000  0.000000  0.000000     -0.0\n",
       "341  6813826539  0.000000  0.000000  0.000000  0.000000     -0.0\n",
       "342  6810173574  0.000000  0.000000  0.000000  0.000000     -0.0\n",
       "343  6813494267  0.000000  0.000000  0.000000  0.000000     -0.0\n",
       "344  6606872194  0.000000  0.000000  0.000000  0.000000     -0.0\n",
       "\n",
       "[287 rows x 6 columns]"
      ]
     },
     "execution_count": 61,
     "metadata": {},
     "output_type": "execute_result"
    }
   ],
   "source": [
    "#filter out the single values in AC_Range\n",
    "single_values_df = df[df['AC_RANGE'].apply(lambda x: isinstance(x, (float, int, np.float64, np.int64)))].copy()\n",
    "single_values_df"
   ]
  },
  {
   "cell_type": "code",
   "execution_count": 9,
   "id": "60f50785-bc8b-4648-b48d-b59adea370ad",
   "metadata": {},
   "outputs": [],
   "source": [
    "test = pd.read_csv('data/nzqa/Test/test_S2Q2_with_score.csv')"
   ]
  },
  {
   "cell_type": "code",
   "execution_count": 63,
   "id": "467cf52a-989a-4336-9f47-6d26a3428e5f",
   "metadata": {},
   "outputs": [],
   "source": [
    "dt = pd.merge(single_values_df,test, left_on=\"Unique_ID\", right_on=\"Unique_ID\", how=\"inner\")"
   ]
  },
  {
   "cell_type": "code",
   "execution_count": 5,
   "id": "aa1a3b4c-7317-4c27-a927-83fdae4b8548",
   "metadata": {},
   "outputs": [
    {
     "data": {
      "text/html": [
       "<div>\n",
       "<style scoped>\n",
       "    .dataframe tbody tr th:only-of-type {\n",
       "        vertical-align: middle;\n",
       "    }\n",
       "\n",
       "    .dataframe tbody tr th {\n",
       "        vertical-align: top;\n",
       "    }\n",
       "\n",
       "    .dataframe thead th {\n",
       "        text-align: right;\n",
       "    }\n",
       "</style>\n",
       "<table border=\"1\" class=\"dataframe\">\n",
       "  <thead>\n",
       "    <tr style=\"text-align: right;\">\n",
       "      <th></th>\n",
       "      <th>Unique_ID</th>\n",
       "      <th>AC_pred</th>\n",
       "      <th>CO_pred</th>\n",
       "      <th>LA_pred</th>\n",
       "      <th>ST_pred</th>\n",
       "      <th>Response_true</th>\n",
       "      <th>AC_true</th>\n",
       "      <th>CO_true</th>\n",
       "      <th>LA_true</th>\n",
       "      <th>ST_true</th>\n",
       "      <th>total_true</th>\n",
       "      <th>total_pred</th>\n",
       "    </tr>\n",
       "  </thead>\n",
       "  <tbody>\n",
       "    <tr>\n",
       "      <th>0</th>\n",
       "      <td>6817958868</td>\n",
       "      <td>2.0</td>\n",
       "      <td>2.0</td>\n",
       "      <td>2.0</td>\n",
       "      <td>2.0</td>\n",
       "      <td>Hello there! My name is Joseph Mang and i'm fr...</td>\n",
       "      <td>2</td>\n",
       "      <td>1</td>\n",
       "      <td>2</td>\n",
       "      <td>2</td>\n",
       "      <td>7</td>\n",
       "      <td>8.0</td>\n",
       "    </tr>\n",
       "    <tr>\n",
       "      <th>1</th>\n",
       "      <td>6814214682</td>\n",
       "      <td>2.0</td>\n",
       "      <td>3.0</td>\n",
       "      <td>3.0</td>\n",
       "      <td>2.0</td>\n",
       "      <td>Hello Anahera quinn i am Rokena butcher i am f...</td>\n",
       "      <td>2</td>\n",
       "      <td>3</td>\n",
       "      <td>3</td>\n",
       "      <td>3</td>\n",
       "      <td>11</td>\n",
       "      <td>10.0</td>\n",
       "    </tr>\n",
       "    <tr>\n",
       "      <th>2</th>\n",
       "      <td>6810653345</td>\n",
       "      <td>3.0</td>\n",
       "      <td>3.0</td>\n",
       "      <td>3.0</td>\n",
       "      <td>3.0</td>\n",
       "      <td>Dear Anahera Quinn, I am interested in signing...</td>\n",
       "      <td>3</td>\n",
       "      <td>3</td>\n",
       "      <td>3</td>\n",
       "      <td>3</td>\n",
       "      <td>12</td>\n",
       "      <td>12.0</td>\n",
       "    </tr>\n",
       "    <tr>\n",
       "      <th>3</th>\n",
       "      <td>6773279851</td>\n",
       "      <td>3.0</td>\n",
       "      <td>3.0</td>\n",
       "      <td>3.0</td>\n",
       "      <td>3.0</td>\n",
       "      <td>Kia Ora Anahera Quinn, \\nMy name is Isadora Ah...</td>\n",
       "      <td>3</td>\n",
       "      <td>2</td>\n",
       "      <td>3</td>\n",
       "      <td>3</td>\n",
       "      <td>11</td>\n",
       "      <td>12.0</td>\n",
       "    </tr>\n",
       "    <tr>\n",
       "      <th>4</th>\n",
       "      <td>6895156445</td>\n",
       "      <td>3.0</td>\n",
       "      <td>3.0</td>\n",
       "      <td>3.0</td>\n",
       "      <td>3.0</td>\n",
       "      <td>October 31st 2023\\n \\n11:28\\n \\n \\nTo: Anahera...</td>\n",
       "      <td>2</td>\n",
       "      <td>2</td>\n",
       "      <td>3</td>\n",
       "      <td>3</td>\n",
       "      <td>10</td>\n",
       "      <td>12.0</td>\n",
       "    </tr>\n",
       "  </tbody>\n",
       "</table>\n",
       "</div>"
      ],
      "text/plain": [
       "    Unique_ID  AC_pred  CO_pred  LA_pred  ST_pred  \\\n",
       "0  6817958868      2.0      2.0      2.0      2.0   \n",
       "1  6814214682      2.0      3.0      3.0      2.0   \n",
       "2  6810653345      3.0      3.0      3.0      3.0   \n",
       "3  6773279851      3.0      3.0      3.0      3.0   \n",
       "4  6895156445      3.0      3.0      3.0      3.0   \n",
       "\n",
       "                                       Response_true  AC_true  CO_true  \\\n",
       "0  Hello there! My name is Joseph Mang and i'm fr...        2        1   \n",
       "1  Hello Anahera quinn i am Rokena butcher i am f...        2        3   \n",
       "2  Dear Anahera Quinn, I am interested in signing...        3        3   \n",
       "3  Kia Ora Anahera Quinn, \\nMy name is Isadora Ah...        3        2   \n",
       "4  October 31st 2023\\n \\n11:28\\n \\n \\nTo: Anahera...        2        2   \n",
       "\n",
       "   LA_true  ST_true  total_true  total_pred  \n",
       "0        2        2           7         8.0  \n",
       "1        3        3          11        10.0  \n",
       "2        3        3          12        12.0  \n",
       "3        3        3          11        12.0  \n",
       "4        3        3          10        12.0  "
      ]
     },
     "execution_count": 5,
     "metadata": {},
     "output_type": "execute_result"
    }
   ],
   "source": [
    "dt = df.copy()\n",
    "dt.head()"
   ]
  },
  {
   "cell_type": "code",
   "execution_count": 6,
   "id": "3a3c655e-63de-4dee-b41b-5e174a8ed567",
   "metadata": {},
   "outputs": [
    {
     "ename": "KeyError",
     "evalue": "'Q2_AC'",
     "output_type": "error",
     "traceback": [
      "\u001b[1;31m---------------------------------------------------------------------------\u001b[0m",
      "\u001b[1;31mKeyError\u001b[0m                                  Traceback (most recent call last)",
      "File \u001b[1;32mc:\\Users\\JessieDong\\anaconda3\\envs\\NLP\\lib\\site-packages\\pandas\\core\\indexes\\base.py:3791\u001b[0m, in \u001b[0;36mIndex.get_loc\u001b[1;34m(self, key)\u001b[0m\n\u001b[0;32m   3790\u001b[0m \u001b[38;5;28;01mtry\u001b[39;00m:\n\u001b[1;32m-> 3791\u001b[0m     \u001b[38;5;28;01mreturn\u001b[39;00m \u001b[38;5;28;43mself\u001b[39;49m\u001b[38;5;241;43m.\u001b[39;49m\u001b[43m_engine\u001b[49m\u001b[38;5;241;43m.\u001b[39;49m\u001b[43mget_loc\u001b[49m\u001b[43m(\u001b[49m\u001b[43mcasted_key\u001b[49m\u001b[43m)\u001b[49m\n\u001b[0;32m   3792\u001b[0m \u001b[38;5;28;01mexcept\u001b[39;00m \u001b[38;5;167;01mKeyError\u001b[39;00m \u001b[38;5;28;01mas\u001b[39;00m err:\n",
      "File \u001b[1;32mindex.pyx:152\u001b[0m, in \u001b[0;36mpandas._libs.index.IndexEngine.get_loc\u001b[1;34m()\u001b[0m\n",
      "File \u001b[1;32mindex.pyx:181\u001b[0m, in \u001b[0;36mpandas._libs.index.IndexEngine.get_loc\u001b[1;34m()\u001b[0m\n",
      "File \u001b[1;32mpandas\\_libs\\hashtable_class_helper.pxi:7080\u001b[0m, in \u001b[0;36mpandas._libs.hashtable.PyObjectHashTable.get_item\u001b[1;34m()\u001b[0m\n",
      "File \u001b[1;32mpandas\\_libs\\hashtable_class_helper.pxi:7088\u001b[0m, in \u001b[0;36mpandas._libs.hashtable.PyObjectHashTable.get_item\u001b[1;34m()\u001b[0m\n",
      "\u001b[1;31mKeyError\u001b[0m: 'Q2_AC'",
      "\nThe above exception was the direct cause of the following exception:\n",
      "\u001b[1;31mKeyError\u001b[0m                                  Traceback (most recent call last)",
      "Cell \u001b[1;32mIn[6], line 5\u001b[0m\n\u001b[0;32m      2\u001b[0m \u001b[38;5;28;01mimport\u001b[39;00m \u001b[38;5;21;01mmatplotlib\u001b[39;00m\u001b[38;5;21;01m.\u001b[39;00m\u001b[38;5;21;01mpyplot\u001b[39;00m \u001b[38;5;28;01mas\u001b[39;00m \u001b[38;5;21;01mplt\u001b[39;00m\n\u001b[0;32m      4\u001b[0m \u001b[38;5;66;03m# Assuming 'dt' is a DataFrame and 'Q2_AC' is your true labels column\u001b[39;00m\n\u001b[1;32m----> 5\u001b[0m y_true \u001b[38;5;241m=\u001b[39m \u001b[43mdt\u001b[49m\u001b[43m[\u001b[49m\u001b[38;5;124;43m'\u001b[39;49m\u001b[38;5;124;43mQ2_AC\u001b[39;49m\u001b[38;5;124;43m'\u001b[39;49m\u001b[43m]\u001b[49m\n\u001b[0;32m      7\u001b[0m \u001b[38;5;66;03m# Convert the predictions to integer if needed\u001b[39;00m\n\u001b[0;32m      8\u001b[0m predictions \u001b[38;5;241m=\u001b[39m dt[\u001b[38;5;124m'\u001b[39m\u001b[38;5;124mAC_RANGE\u001b[39m\u001b[38;5;124m'\u001b[39m]\u001b[38;5;241m.\u001b[39mapply(\u001b[38;5;28;01mlambda\u001b[39;00m x: \u001b[38;5;28mint\u001b[39m(x) \u001b[38;5;28;01mif\u001b[39;00m \u001b[38;5;28misinstance\u001b[39m(x, (\u001b[38;5;28mfloat\u001b[39m, \u001b[38;5;28mint\u001b[39m)) \u001b[38;5;28;01melse\u001b[39;00m x[\u001b[38;5;241m0\u001b[39m] \u001b[38;5;28;01mif\u001b[39;00m \u001b[38;5;28misinstance\u001b[39m(x, \u001b[38;5;28mlist\u001b[39m) \u001b[38;5;28;01melse\u001b[39;00m \u001b[38;5;28;01mNone\u001b[39;00m)\n",
      "File \u001b[1;32mc:\\Users\\JessieDong\\anaconda3\\envs\\NLP\\lib\\site-packages\\pandas\\core\\frame.py:3893\u001b[0m, in \u001b[0;36mDataFrame.__getitem__\u001b[1;34m(self, key)\u001b[0m\n\u001b[0;32m   3891\u001b[0m \u001b[38;5;28;01mif\u001b[39;00m \u001b[38;5;28mself\u001b[39m\u001b[38;5;241m.\u001b[39mcolumns\u001b[38;5;241m.\u001b[39mnlevels \u001b[38;5;241m>\u001b[39m \u001b[38;5;241m1\u001b[39m:\n\u001b[0;32m   3892\u001b[0m     \u001b[38;5;28;01mreturn\u001b[39;00m \u001b[38;5;28mself\u001b[39m\u001b[38;5;241m.\u001b[39m_getitem_multilevel(key)\n\u001b[1;32m-> 3893\u001b[0m indexer \u001b[38;5;241m=\u001b[39m \u001b[38;5;28;43mself\u001b[39;49m\u001b[38;5;241;43m.\u001b[39;49m\u001b[43mcolumns\u001b[49m\u001b[38;5;241;43m.\u001b[39;49m\u001b[43mget_loc\u001b[49m\u001b[43m(\u001b[49m\u001b[43mkey\u001b[49m\u001b[43m)\u001b[49m\n\u001b[0;32m   3894\u001b[0m \u001b[38;5;28;01mif\u001b[39;00m is_integer(indexer):\n\u001b[0;32m   3895\u001b[0m     indexer \u001b[38;5;241m=\u001b[39m [indexer]\n",
      "File \u001b[1;32mc:\\Users\\JessieDong\\anaconda3\\envs\\NLP\\lib\\site-packages\\pandas\\core\\indexes\\base.py:3798\u001b[0m, in \u001b[0;36mIndex.get_loc\u001b[1;34m(self, key)\u001b[0m\n\u001b[0;32m   3793\u001b[0m     \u001b[38;5;28;01mif\u001b[39;00m \u001b[38;5;28misinstance\u001b[39m(casted_key, \u001b[38;5;28mslice\u001b[39m) \u001b[38;5;129;01mor\u001b[39;00m (\n\u001b[0;32m   3794\u001b[0m         \u001b[38;5;28misinstance\u001b[39m(casted_key, abc\u001b[38;5;241m.\u001b[39mIterable)\n\u001b[0;32m   3795\u001b[0m         \u001b[38;5;129;01mand\u001b[39;00m \u001b[38;5;28many\u001b[39m(\u001b[38;5;28misinstance\u001b[39m(x, \u001b[38;5;28mslice\u001b[39m) \u001b[38;5;28;01mfor\u001b[39;00m x \u001b[38;5;129;01min\u001b[39;00m casted_key)\n\u001b[0;32m   3796\u001b[0m     ):\n\u001b[0;32m   3797\u001b[0m         \u001b[38;5;28;01mraise\u001b[39;00m InvalidIndexError(key)\n\u001b[1;32m-> 3798\u001b[0m     \u001b[38;5;28;01mraise\u001b[39;00m \u001b[38;5;167;01mKeyError\u001b[39;00m(key) \u001b[38;5;28;01mfrom\u001b[39;00m \u001b[38;5;21;01merr\u001b[39;00m\n\u001b[0;32m   3799\u001b[0m \u001b[38;5;28;01mexcept\u001b[39;00m \u001b[38;5;167;01mTypeError\u001b[39;00m:\n\u001b[0;32m   3800\u001b[0m     \u001b[38;5;66;03m# If we have a listlike key, _check_indexing_error will raise\u001b[39;00m\n\u001b[0;32m   3801\u001b[0m     \u001b[38;5;66;03m#  InvalidIndexError. Otherwise we fall through and re-raise\u001b[39;00m\n\u001b[0;32m   3802\u001b[0m     \u001b[38;5;66;03m#  the TypeError.\u001b[39;00m\n\u001b[0;32m   3803\u001b[0m     \u001b[38;5;28mself\u001b[39m\u001b[38;5;241m.\u001b[39m_check_indexing_error(key)\n",
      "\u001b[1;31mKeyError\u001b[0m: 'Q2_AC'"
     ]
    }
   ],
   "source": [
    "from sklearn.metrics import cohen_kappa_score, confusion_matrix, ConfusionMatrixDisplay\n",
    "import matplotlib.pyplot as plt\n",
    "\n",
    "# Assuming 'dt' is a DataFrame and 'Q2_AC' is your true labels column\n",
    "y_true = dt['Q2_AC']\n",
    "\n",
    "# Convert the predictions to integer if needed\n",
    "predictions = dt['AC_RANGE'].apply(lambda x: int(x) if isinstance(x, (float, int)) else x[0] if isinstance(x, list) else None)\n",
    "\n",
    "# Filter out any rows with None in predictions\n",
    "valid_rows = predictions.notnull()\n",
    "y_true = y_true[valid_rows]\n",
    "predictions = predictions[valid_rows]\n",
    "\n",
    "# Generate the confusion matrix\n",
    "cm = confusion_matrix(y_true, predictions, labels=[x for x in range(0, 5)])\n",
    "\n",
    "# Plot the confusion matrix\n",
    "draw_cm = ConfusionMatrixDisplay(confusion_matrix=cm, display_labels=[x for x in range(0, 5)])\n",
    "plt.figure(figsize=(10, 6))\n",
    "draw_cm.plot()\n",
    "plt.title('AC confusion matrix for Q2 ')\n",
    "plt.show()\n"
   ]
  },
  {
   "cell_type": "code",
   "execution_count": 9,
   "id": "fac05dea",
   "metadata": {},
   "outputs": [
    {
     "name": "stderr",
     "output_type": "stream",
     "text": [
      "C:\\Users\\JessieDong\\AppData\\Local\\Temp\\ipykernel_24368\\3197618673.py:16: SettingWithCopyWarning: \n",
      "A value is trying to be set on a copy of a slice from a DataFrame\n",
      "\n",
      "See the caveats in the documentation: https://pandas.pydata.org/pandas-docs/stable/user_guide/indexing.html#returning-a-view-versus-a-copy\n",
      "  predictions[predictions==-1]=0\n"
     ]
    },
    {
     "data": {
      "text/plain": [
       "<Figure size 1000x600 with 0 Axes>"
      ]
     },
     "metadata": {},
     "output_type": "display_data"
    },
    {
     "data": {
      "image/png": "[encoded data removed]",
      "text/plain": [
       "<Figure size 640x480 with 2 Axes>"
      ]
     },
     "metadata": {},
     "output_type": "display_data"
    }
   ],
   "source": [
    "from sklearn.metrics import cohen_kappa_score, confusion_matrix, ConfusionMatrixDisplay\n",
    "import matplotlib.pyplot as plt\n",
    "\n",
    "# Assuming 'dt' is a DataFrame and 'Q2_AC' is your true labels column\n",
    "y_true = dt['CO_true']\n",
    "\n",
    "# # Convert the predictions to integer if needed\n",
    "# predictions = dt['AC_RANGE'].apply(lambda x: int(x) if isinstance(x, (float, int)) else x[0] if isinstance(x, list) else None)\n",
    "\n",
    "# # Filter out any rows with None in predictions\n",
    "# valid_rows = predictions.notnull()\n",
    "# y_true = y_true[valid_rows]\n",
    "# predictions = predictions[valid_rows]\n",
    "predictions=dt['CO_pred']\n",
    "#change the -1 to 0\n",
    "predictions[predictions==-1]=0\n",
    "#Generate the confusion matrix\n",
    "cm = confusion_matrix(y_true, predictions, labels=[x for x in range(0, 5)])\n",
    "\n",
    "# Plot the confusion matrix\n",
    "draw_cm = ConfusionMatrixDisplay(confusion_matrix=cm, display_labels=[x for x in range(0, 5)])\n",
    "plt.figure(figsize=(10, 6))\n",
    "draw_cm.plot()\n",
    "plt.title('AC confusion matrix for Q1 ')\n",
    "plt.show()\n"
   ]
  },
  {
   "cell_type": "code",
   "execution_count": 10,
   "id": "3b6b5ad0-bb7b-4152-b087-8a905da628f0",
   "metadata": {},
   "outputs": [
    {
     "data": {
      "text/plain": [
       "0.623"
      ]
     },
     "execution_count": 10,
     "metadata": {},
     "output_type": "execute_result"
    }
   ],
   "source": [
    "kappa = round(cohen_kappa_score(y_true,predictions, weights='quadratic'), 3)\n",
    "kappa"
   ]
  },
  {
   "cell_type": "code",
   "execution_count": 13,
   "id": "231eaddd",
   "metadata": {},
   "outputs": [
    {
     "data": {
      "text/html": [
       "<div>\n",
       "<style scoped>\n",
       "    .dataframe tbody tr th:only-of-type {\n",
       "        vertical-align: middle;\n",
       "    }\n",
       "\n",
       "    .dataframe tbody tr th {\n",
       "        vertical-align: top;\n",
       "    }\n",
       "\n",
       "    .dataframe thead th {\n",
       "        text-align: right;\n",
       "    }\n",
       "</style>\n",
       "<table border=\"1\" class=\"dataframe\">\n",
       "  <thead>\n",
       "    <tr style=\"text-align: right;\">\n",
       "      <th></th>\n",
       "      <th>Unique_ID</th>\n",
       "      <th>AC_pred_float</th>\n",
       "      <th>CO_pred_float</th>\n",
       "      <th>LA_pred_float</th>\n",
       "      <th>ST_pred_float</th>\n",
       "    </tr>\n",
       "  </thead>\n",
       "  <tbody>\n",
       "    <tr>\n",
       "      <th>0</th>\n",
       "      <td>6817958868</td>\n",
       "      <td>1.771773</td>\n",
       "      <td>1.872119</td>\n",
       "      <td>1.785109</td>\n",
       "      <td>1.841751</td>\n",
       "    </tr>\n",
       "    <tr>\n",
       "      <th>1</th>\n",
       "      <td>6814214682</td>\n",
       "      <td>2.035825</td>\n",
       "      <td>2.532464</td>\n",
       "      <td>2.611050</td>\n",
       "      <td>2.378394</td>\n",
       "    </tr>\n",
       "    <tr>\n",
       "      <th>2</th>\n",
       "      <td>6810653345</td>\n",
       "      <td>2.936047</td>\n",
       "      <td>3.012954</td>\n",
       "      <td>3.049076</td>\n",
       "      <td>3.017570</td>\n",
       "    </tr>\n",
       "    <tr>\n",
       "      <th>3</th>\n",
       "      <td>6773279851</td>\n",
       "      <td>2.817183</td>\n",
       "      <td>2.947507</td>\n",
       "      <td>2.974478</td>\n",
       "      <td>2.957670</td>\n",
       "    </tr>\n",
       "    <tr>\n",
       "      <th>4</th>\n",
       "      <td>6895156445</td>\n",
       "      <td>2.602109</td>\n",
       "      <td>2.933768</td>\n",
       "      <td>2.996772</td>\n",
       "      <td>3.030466</td>\n",
       "    </tr>\n",
       "  </tbody>\n",
       "</table>\n",
       "</div>"
      ],
      "text/plain": [
       "    Unique_ID  AC_pred_float  CO_pred_float  LA_pred_float  ST_pred_float\n",
       "0  6817958868       1.771773       1.872119       1.785109       1.841751\n",
       "1  6814214682       2.035825       2.532464       2.611050       2.378394\n",
       "2  6810653345       2.936047       3.012954       3.049076       3.017570\n",
       "3  6773279851       2.817183       2.947507       2.974478       2.957670\n",
       "4  6895156445       2.602109       2.933768       2.996772       3.030466"
      ]
     },
     "execution_count": 13,
     "metadata": {},
     "output_type": "execute_result"
    }
   ],
   "source": [
    "df_float = pd.read_csv(prediction_path+\"test_Q1_multiviewv10_seed289_float.csv\")\n",
    "df_float.head()"
   ]
  },
  {
   "cell_type": "code",
   "execution_count": 19,
   "id": "8293fd3f",
   "metadata": {},
   "outputs": [
    {
     "name": "stderr",
     "output_type": "stream",
     "text": [
      "C:\\Users\\JessieDong\\AppData\\Local\\Temp\\ipykernel_24368\\3590290332.py:2: SettingWithCopyWarning: \n",
      "A value is trying to be set on a copy of a slice from a DataFrame\n",
      "\n",
      "See the caveats in the documentation: https://pandas.pydata.org/pandas-docs/stable/user_guide/indexing.html#returning-a-view-versus-a-copy\n",
      "  predictions_float[predictions_float==-1]=0\n"
     ]
    }
   ],
   "source": [
    "predictions_float = df_float['ST_pred_float']\n",
    "predictions_float[predictions_float==-1]=0\n",
    "y_true = dt['ST_true']"
   ]
  },
  {
   "cell_type": "code",
   "execution_count": 35,
   "id": "78fa3a61-20f6-40cf-acc9-b61cd2fd765d",
   "metadata": {},
   "outputs": [
    {
     "data": {
      "image/png": "[encoded data removed]",
      "text/plain": [
       "<Figure size 640x480 with 1 Axes>"
      ]
     },
     "metadata": {},
     "output_type": "display_data"
    }
   ],
   "source": [
    "# import random\n",
    "\n",
    "# # Define the amount of jitter\n",
    "# jitter_amount = 0.15\n",
    "\n",
    "# # Jitter the data points\n",
    "# jittered_y_true = y_true + np.random.uniform(-jitter_amount, jitter_amount, len(y_true))\n",
    "# jittered_predictions_float = predictions_float + np.random.uniform(-jitter_amount, jitter_amount, len(predictions_float))\n",
    "\n",
    "# Plot the jittered data points\n",
    "#plt.scatter(jittered_y_true, jittered_predictions_float)\n",
    "plt.scatter(y_true, predictions_float)\n",
    "plt.xlabel('True Labels')\n",
    "plt.ylabel('Predictions')\n",
    "plt.title('Scatter Plot of True Labels vs Predictions (with jitter)')\n",
    "plt.show()"
   ]
  },
  {
   "cell_type": "code",
   "execution_count": 21,
   "id": "76f6366d",
   "metadata": {},
   "outputs": [
    {
     "data": {
      "image/png": "[encoded data removed]",
      "text/plain": [
       "<Figure size 640x480 with 1 Axes>"
      ]
     },
     "metadata": {},
     "output_type": "display_data"
    }
   ],
   "source": [
    "plt.violinplot([predictions[y_true == label] for label in range(5)])\n",
    "plt.xlabel('True Labels')\n",
    "plt.ylabel('Predicted Scores')\n",
    "plt.title('Boxplot of Predicted Scores for AC by Each True Label')\n",
    "plt.xticks(range(1, 6), ['0', '1', '2', '3', '4'])\n",
    "plt.show()"
   ]
  },
  {
   "cell_type": "code",
   "execution_count": 22,
   "id": "c3e57436",
   "metadata": {},
   "outputs": [
    {
     "data": {
      "image/png": "[encoded data removed]",
      "text/plain": [
       "<Figure size 640x480 with 1 Axes>"
      ]
     },
     "metadata": {},
     "output_type": "display_data"
    }
   ],
   "source": [
    "plt.boxplot([y_true, predictions_float], labels=['True Labels', 'Predictions'], patch_artist=True, boxprops=dict(facecolor='violet'))\n",
    "plt.xlabel('Labels')\n",
    "plt.ylabel('Values')\n",
    "plt.title('Boxplot of True Labels and Predictions')\n",
    "plt.show()"
   ]
  }
 ],
 "metadata": {
  "kernelspec": {
   "display_name": "Python 3 (ipykernel)",
   "language": "python",
   "name": "python3"
  },
  "language_info": {
   "codemirror_mode": {
    "name": "ipython",
    "version": 3
   },
   "file_extension": ".py",
   "mimetype": "text/x-python",
   "name": "python",
   "nbconvert_exporter": "python",
   "pygments_lexer": "ipython3",
   "version": "3.11.4"
  }
 },
 "nbformat": 4,
 "nbformat_minor": 5
}
